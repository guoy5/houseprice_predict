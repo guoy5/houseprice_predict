{
 "cells": [
  {
   "cell_type": "code",
   "execution_count": null,
   "metadata": {
    "colab": {},
    "colab_type": "code",
    "id": "ssNHzVxmeUho"
   },
   "outputs": [],
   "source": [
    "# !pip install torch torchvision"
   ]
  },
  {
   "cell_type": "code",
   "execution_count": 1,
   "metadata": {
    "colab": {},
    "colab_type": "code",
    "id": "0Usm1-07eF9U"
   },
   "outputs": [],
   "source": [
    "#Let's get rid of some imports\n",
    "%matplotlib inline\n",
    "import matplotlib.pyplot as plt\n",
    "import numpy as np\n",
    "#Define the model \n",
    "import torch\n",
    "import torch.nn as nn\n",
    "import torch.nn.functional as F"
   ]
  },
  {
   "cell_type": "code",
   "execution_count": 12,
   "metadata": {
    "colab": {
     "base_uri": "https://localhost:8080/",
     "height": 34
    },
    "colab_type": "code",
    "id": "r8nkKvL4eF9o",
    "outputId": "ca145661-b1b9-4167-8e54-a5fdb32eae9e"
   },
   "outputs": [],
   "source": [
    "import numpy as np\n",
    "import pandas as pd\n",
    "\n",
    "train = pd.read_csv('train.csv')"
   ]
  },
  {
   "cell_type": "code",
   "execution_count": 14,
   "metadata": {
    "colab": {
     "base_uri": "https://localhost:8080/",
     "height": 34
    },
    "colab_type": "code",
    "id": "89UDBeWFeF-W",
    "outputId": "d4289cfa-6ad3-4527-b58b-084d2c0be15c"
   },
   "outputs": [
    {
     "name": "stdout",
     "output_type": "stream",
     "text": [
      "(1022, 13) (438, 13) (1022,) (438,)\n"
     ]
    }
   ],
   "source": [
    "from sklearn.model_selection  import train_test_split\n",
    "y = train['SalePrice']\n",
    "X = train.loc[:,['MSSubClass','LotArea','OverallQual','OverallCond','YearBuilt','YearRemodAdd','BsmtFinSF1','BsmtFinSF2','BsmtUnfSF','BsmtUnfSF', 'TotalBsmtSF', '1stFlrSF', '2ndFlrSF']]\n",
    "X_train, X_test, y_train, y_test = train_test_split(X, y, test_size=0.3, random_state=0)\n",
    "print(X_train.shape, X_test.shape, y_train.shape, y_test.shape)"
   ]
  },
  {
   "cell_type": "code",
   "execution_count": 15,
   "metadata": {
    "colab": {},
    "colab_type": "code",
    "id": "PbbYVzFTfAJL"
   },
   "outputs": [],
   "source": [
    "#Define training hyperprameters.\n",
    "batch_size = 50\n",
    "num_epochs = 200\n",
    "learning_rate = 0.01\n",
    "size_hidden= 100\n",
    "\n",
    "#Calculate some other hyperparameters based on data.  \n",
    "batch_no = len(X_train) // batch_size  #batches\n",
    "cols=X_train.shape[1] #Number of columns in input matrix\n",
    "n_output=1\n",
    "\n"
   ]
  },
  {
   "cell_type": "code",
   "execution_count": 16,
   "metadata": {
    "colab": {
     "base_uri": "https://localhost:8080/",
     "height": 34
    },
    "colab_type": "code",
    "id": "xD9PhAU7hoqT",
    "outputId": "a8de095b-11b2-447a-e9a7-8f22d94c4f71"
   },
   "outputs": [
    {
     "name": "stdout",
     "output_type": "stream",
     "text": [
      "Executing the model on : cpu\n"
     ]
    }
   ],
   "source": [
    "#Create the model\n",
    "device = torch.device(\"cuda:0\" if torch.cuda.is_available() else \"cpu\")\n",
    "# Assume that we are on a CUDA machine, then this should print a CUDA device:\n",
    "print(\"Executing the model on :\",device)\n",
    "class Net(torch.nn.Module):\n",
    "    def __init__(self, n_feature, size_hidden, n_output):\n",
    "        super(Net, self).__init__()\n",
    "        self.hidden = torch.nn.Linear(cols, size_hidden)   # hidden layer\n",
    "        self.predict = torch.nn.Linear(size_hidden, n_output)   # output layer\n",
    "\n",
    "    def forward(self, x):\n",
    "        x = F.relu(self.hidden(x))      # activation function for hidden layer\n",
    "        x = self.predict(x)             # linear output\n",
    "        return x\n",
    "net = Net(cols, size_hidden, n_output)"
   ]
  },
  {
   "cell_type": "code",
   "execution_count": 17,
   "metadata": {
    "colab": {
     "base_uri": "https://localhost:8080/",
     "height": 91
    },
    "colab_type": "code",
    "id": "dE9a54SijQEs",
    "outputId": "35410564-e673-4d85-aa78-35c4d69e60fc"
   },
   "outputs": [
    {
     "name": "stderr",
     "output_type": "stream",
     "text": [
      "/Users/Jocelyn/anaconda3/lib/python3.6/site-packages/torch/nn/functional.py:52: UserWarning: size_average and reduce args will be deprecated, please use reduction='sum' instead.\n",
      "  warnings.warn(warning.format(ret))\n"
     ]
    }
   ],
   "source": [
    "#Adam is a specific flavor of gradient decent which is typically better\n",
    "optimizer = torch.optim.Adam(net.parameters(), lr=learning_rate)\n",
    "#optimizer = torch.optim.SGD(net.parameters(), lr=0.2)\n",
    "criterion = torch.nn.MSELoss(size_average=False)  # this is for regression mean squared loss"
   ]
  },
  {
   "cell_type": "code",
   "execution_count": 18,
   "metadata": {
    "colab": {},
    "colab_type": "code",
    "id": "J1-OhvPsk6aM"
   },
   "outputs": [],
   "source": [
    "#Change to numpy arraay. \n",
    "X_train=X_train.values\n",
    "y_train=y_train.values\n",
    "X_test=X_test.values\n",
    "y_test=y_test.values"
   ]
  },
  {
   "cell_type": "code",
   "execution_count": 19,
   "metadata": {
    "colab": {
     "base_uri": "https://localhost:8080/",
     "height": 3417
    },
    "colab_type": "code",
    "id": "Nyf8hhaijqFA",
    "outputId": "f70d63a6-2ab2-4f34-f368-aae7327b6f92"
   },
   "outputs": [
    {
     "name": "stdout",
     "output_type": "stream",
     "text": [
      "Epoch 1 loss:  32258853765120.0\n",
      "Epoch 2 loss:  14238610440192.0\n",
      "Epoch 3 loss:  9115380432896.0\n",
      "Epoch 4 loss:  7127185907712.0\n",
      "Epoch 5 loss:  5530191601664.0\n",
      "Epoch 6 loss:  4503308197888.0\n",
      "Epoch 7 loss:  3676894732288.0\n",
      "Epoch 8 loss:  3433717334016.0\n",
      "Epoch 9 loss:  3185424392192.0\n",
      "Epoch 10 loss:  3190883577856.0\n",
      "Epoch 11 loss:  3035667644416.0\n",
      "Epoch 12 loss:  2895122538496.0\n",
      "Epoch 13 loss:  2758989561856.0\n",
      "Epoch 14 loss:  2666707709952.0\n",
      "Epoch 15 loss:  2463474614272.0\n",
      "Epoch 16 loss:  2462621769728.0\n",
      "Epoch 17 loss:  2462332420096.0\n",
      "Epoch 18 loss:  2359873544192.0\n",
      "Epoch 19 loss:  2302211936256.0\n",
      "Epoch 20 loss:  2244698476544.0\n",
      "Epoch 21 loss:  2141505011712.0\n",
      "Epoch 22 loss:  2191181250560.0\n",
      "Epoch 23 loss:  2135508414464.0\n",
      "Epoch 24 loss:  2101477273600.0\n",
      "Epoch 25 loss:  2077231120384.0\n",
      "Epoch 26 loss:  2074139885568.0\n",
      "Epoch 27 loss:  2097937453056.0\n",
      "Epoch 28 loss:  2063069638656.0\n",
      "Epoch 29 loss:  1998444695552.0\n",
      "Epoch 30 loss:  2018764120064.0\n",
      "Epoch 31 loss:  1952330178560.0\n",
      "Epoch 32 loss:  1856017547264.0\n",
      "Epoch 33 loss:  2041208315904.0\n",
      "Epoch 34 loss:  2037296918528.0\n",
      "Epoch 35 loss:  1961298604032.0\n",
      "Epoch 36 loss:  1992120164352.0\n",
      "Epoch 37 loss:  1980540542976.0\n",
      "Epoch 38 loss:  2100835549184.0\n",
      "Epoch 39 loss:  2045039120384.0\n",
      "Epoch 40 loss:  1970100191232.0\n",
      "Epoch 41 loss:  1947715026944.0\n",
      "Epoch 42 loss:  2069314469888.0\n",
      "Epoch 43 loss:  1967439282176.0\n",
      "Epoch 44 loss:  1998892290048.0\n",
      "Epoch 45 loss:  1977722662912.0\n",
      "Epoch 46 loss:  1977952768000.0\n",
      "Epoch 47 loss:  1975805231104.0\n",
      "Epoch 48 loss:  2003821469696.0\n",
      "Epoch 49 loss:  1997175894016.0\n",
      "Epoch 50 loss:  1852707692544.0\n",
      "Epoch 51 loss:  2013844107264.0\n",
      "Epoch 52 loss:  1994743341056.0\n",
      "Epoch 53 loss:  2000709373952.0\n",
      "Epoch 54 loss:  2022976454656.0\n",
      "Epoch 55 loss:  2018105249792.0\n",
      "Epoch 56 loss:  2005159321600.0\n",
      "Epoch 57 loss:  2001088684032.0\n",
      "Epoch 58 loss:  1978811019264.0\n",
      "Epoch 59 loss:  1788256952320.0\n",
      "Epoch 60 loss:  1978498121728.0\n",
      "Epoch 61 loss:  2045786836992.0\n",
      "Epoch 62 loss:  1992180588544.0\n",
      "Epoch 63 loss:  2004781850624.0\n",
      "Epoch 64 loss:  1790863142912.0\n",
      "Epoch 65 loss:  1987876229120.0\n",
      "Epoch 66 loss:  1958628417536.0\n",
      "Epoch 67 loss:  1955282866176.0\n",
      "Epoch 68 loss:  1951770746880.0\n",
      "Epoch 69 loss:  1982129709056.0\n",
      "Epoch 70 loss:  1973292478464.0\n",
      "Epoch 71 loss:  1985067429888.0\n",
      "Epoch 72 loss:  1966005465088.0\n",
      "Epoch 73 loss:  1944640167936.0\n",
      "Epoch 74 loss:  1968509599744.0\n",
      "Epoch 75 loss:  1979111854080.0\n",
      "Epoch 76 loss:  1960598634496.0\n",
      "Epoch 77 loss:  1937597808640.0\n",
      "Epoch 78 loss:  1969080311808.0\n",
      "Epoch 79 loss:  2011929178112.0\n",
      "Epoch 80 loss:  1937202896896.0\n",
      "Epoch 81 loss:  1969522823168.0\n",
      "Epoch 82 loss:  1914814332928.0\n",
      "Epoch 83 loss:  1925814636544.0\n",
      "Epoch 84 loss:  1954524848128.0\n",
      "Epoch 85 loss:  1958204395520.0\n",
      "Epoch 86 loss:  1993001893888.0\n",
      "Epoch 87 loss:  1971087187968.0\n",
      "Epoch 88 loss:  1955766689792.0\n",
      "Epoch 89 loss:  1955537350656.0\n",
      "Epoch 90 loss:  1943469449216.0\n",
      "Epoch 91 loss:  1940356763648.0\n",
      "Epoch 92 loss:  1953633030144.0\n",
      "Epoch 93 loss:  1839039356928.0\n",
      "Epoch 94 loss:  1955909337088.0\n",
      "Epoch 95 loss:  1920100163584.0\n",
      "Epoch 96 loss:  1983920881664.0\n",
      "Epoch 97 loss:  1968987951104.0\n",
      "Epoch 98 loss:  1970798485504.0\n",
      "Epoch 99 loss:  1929275187200.0\n",
      "Epoch 100 loss:  1923237978112.0\n",
      "Epoch 101 loss:  1905365540864.0\n",
      "Epoch 102 loss:  1966722764800.0\n",
      "Epoch 103 loss:  1989872676864.0\n",
      "Epoch 104 loss:  1965248991232.0\n",
      "Epoch 105 loss:  1945194573824.0\n",
      "Epoch 106 loss:  2004019417088.0\n",
      "Epoch 107 loss:  2000558080000.0\n",
      "Epoch 108 loss:  1909412573184.0\n",
      "Epoch 109 loss:  1922897559552.0\n",
      "Epoch 110 loss:  1947065692160.0\n",
      "Epoch 111 loss:  1923664359424.0\n",
      "Epoch 112 loss:  1932281098240.0\n",
      "Epoch 113 loss:  1927004082176.0\n",
      "Epoch 114 loss:  1930828460032.0\n",
      "Epoch 115 loss:  1917314486272.0\n",
      "Epoch 116 loss:  1991389896704.0\n",
      "Epoch 117 loss:  1915716468736.0\n",
      "Epoch 118 loss:  1905696866304.0\n",
      "Epoch 119 loss:  1969613844480.0\n",
      "Epoch 120 loss:  1918653456384.0\n",
      "Epoch 121 loss:  1887965700096.0\n",
      "Epoch 122 loss:  1901488320512.0\n",
      "Epoch 123 loss:  1888071909376.0\n",
      "Epoch 124 loss:  1948457218048.0\n",
      "Epoch 125 loss:  1895344672768.0\n",
      "Epoch 126 loss:  1854480269312.0\n",
      "Epoch 127 loss:  1922923630592.0\n",
      "Epoch 128 loss:  1890466971648.0\n",
      "Epoch 129 loss:  1879501758464.0\n",
      "Epoch 130 loss:  1880298004480.0\n",
      "Epoch 131 loss:  1858375139328.0\n",
      "Epoch 132 loss:  1864366792704.0\n",
      "Epoch 133 loss:  1884805627904.0\n",
      "Epoch 134 loss:  1904628871168.0\n",
      "Epoch 135 loss:  1843229691904.0\n",
      "Epoch 136 loss:  1901444163584.0\n",
      "Epoch 137 loss:  1880667906048.0\n",
      "Epoch 138 loss:  1852692676608.0\n",
      "Epoch 139 loss:  1908935495680.0\n",
      "Epoch 140 loss:  1860943011840.0\n",
      "Epoch 141 loss:  1889976561664.0\n",
      "Epoch 142 loss:  1860817510400.0\n",
      "Epoch 143 loss:  1890569949184.0\n",
      "Epoch 144 loss:  1935105429504.0\n",
      "Epoch 145 loss:  1871444586496.0\n",
      "Epoch 146 loss:  1872151040000.0\n",
      "Epoch 147 loss:  1860221804544.0\n",
      "Epoch 148 loss:  1842358657024.0\n",
      "Epoch 149 loss:  1890256580608.0\n",
      "Epoch 150 loss:  1910172659712.0\n",
      "Epoch 151 loss:  1848165244928.0\n",
      "Epoch 152 loss:  1845566795776.0\n",
      "Epoch 153 loss:  1833195495424.0\n",
      "Epoch 154 loss:  1860937240576.0\n",
      "Epoch 155 loss:  1844936683520.0\n",
      "Epoch 156 loss:  1825289551872.0\n",
      "Epoch 157 loss:  1855171702784.0\n",
      "Epoch 158 loss:  1824092807168.0\n",
      "Epoch 159 loss:  1836030427136.0\n",
      "Epoch 160 loss:  1841542795264.0\n",
      "Epoch 161 loss:  1841602482176.0\n",
      "Epoch 162 loss:  1836652175360.0\n",
      "Epoch 163 loss:  1841888403456.0\n",
      "Epoch 164 loss:  1815659794432.0\n",
      "Epoch 165 loss:  1831810979840.0\n",
      "Epoch 166 loss:  1845833093120.0\n",
      "Epoch 167 loss:  1817914052608.0\n",
      "Epoch 168 loss:  1842787762176.0\n",
      "Epoch 169 loss:  1845769801728.0\n",
      "Epoch 170 loss:  1847696400384.0\n",
      "Epoch 171 loss:  1864820834304.0\n",
      "Epoch 172 loss:  1849162182656.0\n",
      "Epoch 173 loss:  1817026027520.0\n",
      "Epoch 174 loss:  1798520385536.0\n",
      "Epoch 175 loss:  1858256486400.0\n",
      "Epoch 176 loss:  1833368748032.0\n",
      "Epoch 177 loss:  1823002480640.0\n",
      "Epoch 178 loss:  1865794027520.0\n",
      "Epoch 179 loss:  1873623736320.0\n",
      "Epoch 180 loss:  1816149491712.0\n",
      "Epoch 181 loss:  1779532595200.0\n",
      "Epoch 182 loss:  1754518999040.0\n",
      "Epoch 183 loss:  1821193736192.0\n",
      "Epoch 184 loss:  1787315765248.0\n",
      "Epoch 185 loss:  1819392487424.0\n",
      "Epoch 186 loss:  1810204352512.0\n",
      "Epoch 187 loss:  1785842114560.0\n",
      "Epoch 188 loss:  1792090279936.0\n",
      "Epoch 189 loss:  1773655465984.0\n",
      "Epoch 190 loss:  1813229461504.0\n",
      "Epoch 191 loss:  1810196791296.0\n",
      "Epoch 192 loss:  1785781331968.0\n",
      "Epoch 193 loss:  1842983727104.0\n",
      "Epoch 194 loss:  1795706949632.0\n",
      "Epoch 195 loss:  1767792099328.0\n",
      "Epoch 196 loss:  1808126324736.0\n",
      "Epoch 197 loss:  1774952984576.0\n",
      "Epoch 198 loss:  1759408795648.0\n",
      "Epoch 199 loss:  1836547780608.0\n",
      "Epoch 200 loss:  1781538586624.0\n"
     ]
    }
   ],
   "source": [
    "from sklearn.utils import shuffle\n",
    "from torch.autograd import Variable\n",
    "running_loss = 0.0\n",
    "for epoch in range(num_epochs):\n",
    "    #Shuffle just mixes up the dataset between epocs\n",
    "    X_train, y_train = shuffle(X_train, y_train)\n",
    "    # Mini batch learning\n",
    "    for i in range(batch_no):\n",
    "        start = i * batch_size\n",
    "        end = start + batch_size\n",
    "        inputs = Variable(torch.FloatTensor(X_train[start:end]))\n",
    "        labels = Variable(torch.FloatTensor(y_train[start:end]))\n",
    "        # zero the parameter gradients\n",
    "        optimizer.zero_grad()\n",
    "\n",
    "        # forward + backward + optimize\n",
    "        outputs = net(inputs)\n",
    "        #print(\"outputs\",outputs)\n",
    "        #print(\"outputs\",outputs,outputs.shape,\"labels\",labels, labels.shape)\n",
    "        loss = criterion(outputs, torch.unsqueeze(labels,dim=1))\n",
    "        loss.backward()\n",
    "        optimizer.step()\n",
    "\n",
    "        # print statistics\n",
    "        running_loss += loss.item()\n",
    "        \n",
    "    print('Epoch {}'.format(epoch+1), \"loss: \",running_loss)\n",
    "    running_loss = 0.0\n",
    "\n"
   ]
  },
  {
   "cell_type": "code",
   "execution_count": 20,
   "metadata": {
    "colab": {
     "base_uri": "https://localhost:8080/",
     "height": 51
    },
    "colab_type": "code",
    "id": "n4QTTcBF3aeZ",
    "outputId": "57807e36-7c02-46ee-8701-d697d511985e"
   },
   "outputs": [
    {
     "name": "stdout",
     "output_type": "stream",
     "text": [
      "1022 1022\n"
     ]
    },
    {
     "data": {
      "text/plain": [
       "0.5793230235256241"
      ]
     },
     "execution_count": 20,
     "metadata": {},
     "output_type": "execute_result"
    }
   ],
   "source": [
    "\n",
    "import pandas as pd\n",
    "from sklearn.metrics import r2_score\n",
    "\n",
    "X = Variable(torch.FloatTensor(X_train)) \n",
    "result = net(X)\n",
    "pred=result.data[:,0].numpy()\n",
    "print(len(pred),len(y_train))\n",
    "r2_score(pred,y_train)"
   ]
  },
  {
   "cell_type": "code",
   "execution_count": 21,
   "metadata": {
    "colab": {},
    "colab_type": "code",
    "id": "rAsEl1qyuSrH"
   },
   "outputs": [],
   "source": [
    "import pandas as pd\n",
    "from sklearn.metrics import r2_score\n",
    "#This is a little bit tricky to get the resulting prediction.  \n",
    "def calculate_r2(x,y=[]):\n",
    "    \"\"\"\n",
    "    This function will return the r2 if passed x and y or return predictions if just passed x. \n",
    "    \"\"\"\n",
    "    # Evaluate the model with the test set. \n",
    "    X = Variable(torch.FloatTensor(x))  \n",
    "    result = net(X) #This outputs the value for regression\n",
    "    result=result.data[:,0].numpy()\n",
    "  \n",
    "    if len(y) != 0:\n",
    "        r2=r2_score(result, y)\n",
    "        print(\"R-Squared\", r2)\n",
    "        #print('Accuracy {:.2f}'.format(num_right / len(y)), \"for a total of \", len(y), \"records\")\n",
    "        return pd.DataFrame(data= {'actual': y, 'predicted': result})\n",
    "    else:\n",
    "        print(\"returning predictions\")\n",
    "        return result\n",
    "\n"
   ]
  },
  {
   "cell_type": "code",
   "execution_count": 22,
   "metadata": {
    "colab": {
     "base_uri": "https://localhost:8080/",
     "height": 51
    },
    "colab_type": "code",
    "id": "WJ451DaG5yXb",
    "outputId": "3bd25afa-7b2c-4b8a-a461-a84b3ed3cbe9"
   },
   "outputs": [
    {
     "name": "stdout",
     "output_type": "stream",
     "text": [
      "R-Squared 0.5793230235256241\n",
      "R-Squared 0.4479347692360447\n"
     ]
    }
   ],
   "source": [
    "result1=calculate_r2(X_train,y_train)\n",
    "result2=calculate_r2(X_test,y_test)"
   ]
  },
  {
   "cell_type": "markdown",
   "metadata": {
    "colab_type": "text",
    "id": "v4mhnevoeF-Y",
    "slideshow": {
     "slide_type": "subslide"
    }
   },
   "source": [
    "## Modeling \n",
    "- First import the package: `from sklearn.linear_model import LinearRegression`\n",
    "- Then create the model object.  \n",
    "- Then fit the data. \n",
    "- This creates a trained model (an object) of class regression.\n",
    "- The variety of methods and attributes available for regression are shown [here](http://scikit-learn.org/stable/modules/generated/sklearn.linear_model.LinearRegression.html).\n"
   ]
  },
  {
   "cell_type": "code",
   "execution_count": null,
   "metadata": {
    "colab": {
     "base_uri": "https://localhost:8080/",
     "height": 34
    },
    "colab_type": "code",
    "id": "CcWl-I5BeF-Z",
    "outputId": "39a4dcc6-86bf-421e-f868-4fcff00ae535"
   },
   "outputs": [],
   "source": [
    "from sklearn.linear_model import LinearRegression\n",
    "lm = LinearRegression()\n",
    "lm.fit( X_train, y_train )\n"
   ]
  },
  {
   "cell_type": "markdown",
   "metadata": {
    "colab_type": "text",
    "id": "fbnv9I0ueF-e",
    "slideshow": {
     "slide_type": "subslide"
    }
   },
   "source": [
    "## Evaluating the Model Results\n",
    "- You have fit a model. \n",
    "- You can now store this model, save the object to disk, or evaluate it with different outcomes. \n",
    "- Trained regression objects have coefficients (`coef_`) and intercepts (`intercept_`) as attributes. \n",
    "- R-Squared is determined from the `score` method of the regression object.\n",
    "- For Regression, we are going to use the coefficient of determination as our way of evaluating the results, [also referred to as R-Squared](https://en.wikipedia.org/wiki/Coefficient_of_determination)"
   ]
  },
  {
   "cell_type": "code",
   "execution_count": null,
   "metadata": {
    "colab": {
     "base_uri": "https://localhost:8080/",
     "height": 51
    },
    "colab_type": "code",
    "id": "lkam3qKNeF-f",
    "outputId": "8f3132f3-aa95-4da6-d73c-c461943f3f27"
   },
   "outputs": [],
   "source": [
    "\n",
    "print('R2 for Train)', lm.score( X_train, y_train ))\n",
    "print('R2 for Test (cross validation)', lm.score(X_test, y_test))"
   ]
  },
  {
   "cell_type": "markdown",
   "metadata": {
    "colab_type": "text",
    "id": "E-oXxeTweF_G"
   },
   "source": [
    "\n",
    "Copyright [AnalyticsDojo](http://rpi.analyticsdojo.com) 2016.\n",
    "This work is licensed under the [Creative Commons Attribution 4.0 International](https://creativecommons.org/licenses/by/4.0/) license agreement.\n"
   ]
  }
 ],
 "metadata": {
  "colab": {
   "collapsed_sections": [],
   "name": "regression-boston-housing-pytorch.ipynb",
   "provenance": [],
   "version": "0.3.2"
  },
  "kernelspec": {
   "display_name": "Python 3",
   "language": "python",
   "name": "python3"
  },
  "language_info": {
   "codemirror_mode": {
    "name": "ipython",
    "version": 3
   },
   "file_extension": ".py",
   "mimetype": "text/x-python",
   "name": "python",
   "nbconvert_exporter": "python",
   "pygments_lexer": "ipython3",
   "version": "3.6.5"
  }
 },
 "nbformat": 4,
 "nbformat_minor": 1
}
